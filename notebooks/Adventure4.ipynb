{
 "cells": [
  {
   "cell_type": "markdown",
   "metadata": {},
   "source": [
    "# Blowing up things!\n",
    "\n",
    "![Image of Super Steve](https://i.ytimg.com/vi/FSpQvYNzo9w/hqdefault.jpg)\n",
    "\n",
    "So far we learned about functions, conditions and loops. Lets use our knowledge so far to do something fun - **blow up things!**\n",
    "\n",
    "In this adventure we will build structures with TNT. Once we are done building with TNT and we are ready we'll explode the TNT.\n",
    "\n",
    "**Lets get started ...**\n"
   ]
  },
  {
   "cell_type": "code",
   "execution_count": null,
   "metadata": {
    "collapsed": true
   },
   "outputs": [],
   "source": [
    "# Run this once before starting your tasks\n",
    "import mcpi.minecraft as minecraft\n",
    "import mcpi.block as block\n",
    "import time\n",
    "import thread\n",
    "mc = minecraft.Minecraft.create()"
   ]
  },
  {
   "cell_type": "markdown",
   "metadata": {},
   "source": [
    "## Task 1: Toggling TNT building\n",
    "\n",
    "We need to know when Steve is building a TNT structure and when he is done building and just wants to move around in the world. There are two phases when Steve is moving around\n",
    "\n",
    "* Steve is moving to build with TNT\n",
    "* Steve is moving around normally and is not building with TNT\n",
    "\n",
    "We use a variable named _buildingWithTNT_ and set it to the value _True_ when Steve is in the building phase and set the variable to _False_ when he is not building with TNT. Note that the variable takes only two values True and False. When the current value of the variable is True, the next value it should take is False and when the current value is False, the next value the variable should take is True. This technique of setting the next value of the variable to the opposite of its current value is called **toggling**. In Python an easy way to toggle a boolean variable is shown below\n",
    "\n",
    "```python\n",
    "myvariable = False # initial value\n",
    "myvariable = not myvariable # toggles value\n",
    "```\n",
    "\n",
    "Complete the program below to add the variable _buildingWithTNT_ and toggle the variable when run and verify your program runs correctly by printing the variable value with a string like 'buildingWithTNT = False'."
   ]
  },
  {
   "cell_type": "code",
   "execution_count": null,
   "metadata": {
    "collapsed": true
   },
   "outputs": [],
   "source": [
    "# Task 1 code\n",
    "# add a variable with an initial value\n",
    "# toggle the variable\n",
    "# print the value of the variable "
   ]
  },
  {
   "cell_type": "markdown",
   "metadata": {},
   "source": [
    "## Task 2: Building with TNT\n",
    "To build with TNT blocks, we first have to toggle the _buildingWithTNT_ variable by executing the Task1 code block. This will toggle _buildingWithTNT_ to True. Then Steve has to run (or jump or fly) wherever he wants to place the TNT blocks. Once we are done building, we have to toggle the _buildingWithTNT_ variable again by executing the Task1 code block again. This will now toggle the _buildingWithTNT_ variable to False and Steve will now move normally.\n",
    "\n",
    "Lets write the function _placeTNTBlock_ that will set the block that Steve is currently on to a TNT block. A TNT block has the id **block.TNT.id**. Remember that in order to define a function, one needs to use **def** Its a good idea to review functions in Adventure 3 before you write the function _placeTNTBlock_.\n",
    "\n",
    "Make sure that in your function, you set a TNT block only if the _buildingWithTNT_ variable is set to True. Use an if conditional to do so. Your program should look like the one below\n",
    "\n",
    "```python\n",
    "def myfunction():\n",
    "    while True:\n",
    "        time.sleep(0.1)\n",
    "        pos = mc.player.getTilePos()\n",
    "        # if buildingWithTNT is True set the block at the current position to block.TNT.id\n",
    "\n",
    "```\n",
    "\n",
    "** Great Job **"
   ]
  },
  {
   "cell_type": "code",
   "execution_count": null,
   "metadata": {
    "collapsed": true
   },
   "outputs": [],
   "source": [
    "# Task 2 code\n"
   ]
  },
  {
   "cell_type": "markdown",
   "metadata": {},
   "source": [
    "We need to run the function you  defined in Task 2 using the following statement. \n",
    "\n",
    "```python\n",
    "thread.start_new_thread(placeTNTBlock,())\n",
    "```\n",
    "\n",
    "We need to do so since we are going to toggle the _buildingWithTNT_ variable as the program is running. \n",
    "\n",
    "**Note: Ask your instructor for help if you get stuck running your program or run into errors!**\n"
   ]
  },
  {
   "cell_type": "code",
   "execution_count": null,
   "metadata": {
    "collapsed": true
   },
   "outputs": [],
   "source": [
    "# Run Task 2 function on using thread.start_new_thread"
   ]
  },
  {
   "cell_type": "markdown",
   "metadata": {},
   "source": [
    "## Task 3: Build and Blow Up!\n",
    "\n",
    "Now that your function is running, try the following steps in order\n",
    "\n",
    "1. In Minecraft, move Steve to the location you want to start building a TNT structure\n",
    "2. In the jupyter editor, toggle the _buildingWithTNT_ variable by running the code in Task 1\n",
    "3. In Minecraft, move Steve to build the structure by placing TNT blocks wherever he moves\n",
    "4. In the jupyter editor, toggle the _buildingWithTNT_ variable by running the code in Task 1\n",
    "5. Now move Steve and place a redstone block on one of the TNT blocks and watch the explosion!\n",
    "\n",
    "Try building more TNT structures and blowing them up."
   ]
  }
 ],
 "metadata": {
  "kernelspec": {
   "display_name": "Python 2",
   "language": "python",
   "name": "python2"
  },
  "language_info": {
   "codemirror_mode": {
    "name": "ipython",
    "version": 2
   },
   "file_extension": ".py",
   "mimetype": "text/x-python",
   "name": "python",
   "nbconvert_exporter": "python",
   "pygments_lexer": "ipython2",
   "version": "2.7.10"
  }
 },
 "nbformat": 4,
 "nbformat_minor": 0
}
