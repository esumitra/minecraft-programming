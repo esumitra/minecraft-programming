{
 "cells": [
  {
   "cell_type": "markdown",
   "metadata": {},
   "source": [
    "# Superpowers for Steve\n",
    "\n",
    "![Image of Super Steve](https://i.ytimg.com/vi/ThqIu6-xHNI/maxresdefault.jpg)\n",
    "\n",
    "With our newly learned programming skills let's give Steve some superpowers! Usually when Steve steps off a ledge he falls down and gets hurt and when he jumps into water, he sinks unless he starts swimming. Lets write a program that lets Steve automatically build a glass bridge whenever he steps off the ground into water or air. With this new program Steve will never fall or sink. An awesome superpower!\n",
    "\n",
    "Along the way, we will learn about functions and arguments and use conditions and loops from the previous adventures.\n",
    "\n",
    "**Lets get started ...**"
   ]
  },
  {
   "cell_type": "code",
   "execution_count": null,
   "metadata": {
    "collapsed": true
   },
   "outputs": [],
   "source": [
    "# Run this once before starting your tasks\n",
    "import mcpi.minecraft as minecraft\n",
    "import mcpi.block as block\n",
    "import time\n",
    "mc = minecraft.Minecraft.create()"
   ]
  },
  {
   "cell_type": "markdown",
   "metadata": {},
   "source": [
    "## Task 1: What are you standing on Steve?\n",
    "\n",
    "We first need to detect if Steve is falling or sinking. How do we do that? As you know, we use blocks for building things in Minecraft. Most of you have built houses and crafted weapons. The secret is that in Minecraft **every** square that is visible is a block. The ground is built from ground blocks and water is built from water blocks. Even air is built from air blocks! That means Steve is going to fall if he is standing on an air block and he will sink if he is on a water block.\n",
    "\n",
    "The function **getBlock(x,y,z)** gives us the block at the Minecraft coordinates (x,y,z). Each kind of block has a unique identifier. An air block has an identifier **block.AIR.id** and a water block has an identifier **block.WATER_STATIONARY.id** and **block.WATER_FLOWING.id**. To use these block ids we need to import the block library which has the ids of all the blocks used in Minecraft. \n",
    "\n",
    "Your first task is to write a program that prints the block Steve is standing on when run. Complete the program below and verify that the program prints the correct block\n"
   ]
  },
  {
   "cell_type": "code",
   "execution_count": null,
   "metadata": {
    "collapsed": true
   },
   "outputs": [],
   "source": [
    "# Task 1\n",
    "pos = mc.player.getTilePos() # Steve's current position\n",
    "# b = mc.getBlock(?,?,?)"
   ]
  },
  {
   "cell_type": "markdown",
   "metadata": {},
   "source": [
    "Hmm ... The program is printing numbers. It turns out that the block identifier is a number. Often numbers are used as identifiers. In order to print a useful message try the following\n",
    "\n",
    "```python\n",
    "\n",
    "if b == block.AIR.id:\n",
    "    print \"I am on air\"\n",
    "if b == block.WATER_FLOWING.id:\n",
    "    print \"I am on flowing water\"\n",
    "\n",
    "```\n",
    "\n",
    "Update your program for task 1 above and verify that you are able to correctly detect air and water.\n",
    "\n",
    "**Nice job**"
   ]
  }
 ],
 "metadata": {
  "kernelspec": {
   "display_name": "Python 2",
   "language": "python",
   "name": "python2"
  },
  "language_info": {
   "codemirror_mode": {
    "name": "ipython",
    "version": 2
   },
   "file_extension": ".py",
   "mimetype": "text/x-python",
   "name": "python",
   "nbconvert_exporter": "python",
   "pygments_lexer": "ipython2",
   "version": "2.7.10"
  }
 },
 "nbformat": 4,
 "nbformat_minor": 0
}
