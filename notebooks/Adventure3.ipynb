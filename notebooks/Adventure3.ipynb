{
 "cells": [
  {
   "cell_type": "markdown",
   "metadata": {},
   "source": [
    "# Superpowers for Steve\n",
    "\n",
    "![Image of Super Steve](https://i.ytimg.com/vi/ThqIu6-xHNI/maxresdefault.jpg)\n",
    "\n",
    "With our newly learned programming skills let's give Steve some superpowers! Usually when Steve steps off a ledge he falls down and gets hurt and when he jumps into water, he sinks unless he starts swimming. Lets write a program that lets Steve automatically build a glass bridge whenever he steps off the ground into water or air. With this new program Steve will never fall or sink. An awesome superpower!\n",
    "\n",
    "Along the way, we will learn about functions and arguments and use conditions and loops from the previous adventures.\n",
    "\n",
    "**Lets get started ...**"
   ]
  },
  {
   "cell_type": "code",
   "execution_count": null,
   "metadata": {
    "collapsed": true
   },
   "outputs": [],
   "source": [
    "# Run this once before starting your tasks\n",
    "import mcpi.minecraft as minecraft\n",
    "import mcpi.block as block\n",
    "import time\n",
    "mc = minecraft.Minecraft.create()"
   ]
  },
  {
   "cell_type": "markdown",
   "metadata": {},
   "source": [
    "## Task 1: What are you standing on Steve?\n",
    "\n",
    "We first need to detect if Steve is falling or sinking. How do we do that? As you know, we use blocks for building things in Minecraft. Most of you have built houses and crafted weapons. The secret is that in Minecraft **every** square that is visible is a block. The ground is built from ground blocks and water is built from water blocks. Even air is built from air blocks! That means Steve is going to fall if he is standing on an air block and he will sink if he is on a water block.\n",
    "\n",
    "The function **getBlock(x,y,z)** gives us the block at the Minecraft coordinates (x,y,z). Each kind of block has a unique identifier. An air block has an identifier **block.AIR.id** and a water block has an identifier **block.WATER_STATIONARY.id** and **block.WATER_FLOWING.id**. To use these block ids we need to import the block library which has the ids of all the blocks used in Minecraft. \n",
    "\n",
    "Your first task is to write a program that prints the block Steve is standing on when run. Complete the program below and verify that the program prints the correct block\n"
   ]
  },
  {
   "cell_type": "code",
   "execution_count": null,
   "metadata": {
    "collapsed": true
   },
   "outputs": [],
   "source": [
    "# Task 1\n",
    "pos = mc.player.getTilePos() # Steve's current position\n",
    "# b = mc.getBlock(?,?,?)"
   ]
  },
  {
   "cell_type": "markdown",
   "metadata": {},
   "source": [
    "Hmm ... The program is printing numbers. It turns out that the block identifier is a number. Often numbers are used as identifiers. In order to print a useful message try the following\n",
    "\n",
    "```python\n",
    "\n",
    "if b == block.AIR.id:\n",
    "    print \"I am on air\"\n",
    "if b == block.WATER_FLOWING.id:\n",
    "    print \"I am on flowing water\"\n",
    "\n",
    "```\n",
    "\n",
    "Update your program for task 1 above and verify that you are able to correctly detect air and water.\n",
    "\n",
    "**Nice job**"
   ]
  },
  {
   "cell_type": "markdown",
   "metadata": {},
   "source": [
    "## Task 2: Some fun\n",
    "\n",
    "The previous task had a lot of statements to figure out if Steve was standing on air or water. We need to use these statements everytime Steve moves to a new position. Wouldn't it be nice if Minecraft had a function just like _postToChat_ that would tell us if Steve was on a air or water block? Unfortunately, Minecraft does not have such a function but you have some superpowers - you can define your own functions! And when you define your own functions, you can use these functions in your programs as you need. \n",
    "\n",
    "First, lets take a look at the function **postToChat** like the example below\n",
    "\n",
    "```python\n",
    "mc.postToChat(\"Minecraft rocks!\")\n",
    "```\n",
    "\n",
    "The name of the function is _postToChat_. The message you give the function to post is called the function's **parameter**. A function may have no parameters like in **minecraft.Minecraft.create()** or it may have one parameter like **mc.postToChat(\"something useful\")** or it could have many parameters like **max(1,5,2)**. Some functions return values when you call the function. For example, the function **max(1,5,2)** returns the maximum value of the numbers 1,5 and 2. Try it out.\n",
    "\n",
    "Now lets write our own fun function :) Remember every function has a **name**, can have zero or more **parameters** and can have a **return value**. Lets define a function named _myCoolFunction_ with one parameter named _n_ that will post the message \"Minecraft rocks times ...\" when you call the function. In Pytho, functiosn are defined using **def** as shown below.\n",
    "\n",
    "```python\n",
    "def myCoolFunction(n):\n",
    "    mc.postToChat(\"Minecraft rocks times \" + str(n))\n",
    "\n",
    "```\n",
    "Go ahead and type the code below to define your function\n"
   ]
  },
  {
   "cell_type": "code",
   "execution_count": null,
   "metadata": {
    "collapsed": false
   },
   "outputs": [],
   "source": [
    "# Task 2 code:"
   ]
  },
  {
   "cell_type": "markdown",
   "metadata": {},
   "source": [
    "Now that you have defined your own cool function lets call the function with different arguments like\n",
    "\n",
    "```python\n",
    "myCoolFunction(1)\n",
    "\n",
    "myCoolFunction(3)\n",
    "\n",
    "myCoolFunction(5)\n",
    "```\n",
    "Try calling your function below. That was something fun with functions!"
   ]
  },
  {
   "cell_type": "code",
   "execution_count": null,
   "metadata": {
    "collapsed": true
   },
   "outputs": [],
   "source": [
    "# call your cool function"
   ]
  },
  {
   "cell_type": "markdown",
   "metadata": {},
   "source": [
    "## Task 3: Is Steve Safe?\n",
    "For this task we will write a function named _isSafe_ that will take a parameter _position_ and return a value _False_ if the input parameter position is above air or water and will return the value _True_ otherwise. We will use the statements from Task 1 to write this function. Use **return** to return a value from this function. The outline of the function you need to write is below. Try to complete the function in the code block below.\n",
    "\n",
    "```python\n",
    "def isSafe(position):\n",
    "    b = mc.getBlock(position.x,position.y-1,position.z)\n",
    "    if b == ?:\n",
    "        return False\n",
    "    if b == ?:\n",
    "        return False\n",
    "    return True\n",
    "\n",
    "```"
   ]
  },
  {
   "cell_type": "code",
   "execution_count": null,
   "metadata": {
    "collapsed": true
   },
   "outputs": [],
   "source": [
    "# Task 3"
   ]
  },
  {
   "cell_type": "markdown",
   "metadata": {},
   "source": [
    "## Task 4: Steve's Safety Status\n",
    "\n",
    "Lets test the function _isSafe_ that you wrote in Task 3 by posting a message evertime Steve is not safe i.e., lets post a message \"You are not safe\" evertime Steve is over air or water. Type and modify the code below to call your function to show the message.\n",
    "\n",
    "```python\n",
    "while True:\n",
    "    time.sleep(0.1)\n",
    "    # add your code here\n",
    "```\n",
    "\n",
    "**Hint:** You can call your function in an if statment like\n",
    "```python \n",
    "if isSafe(pos):\n",
    "   doSomething\n",
    "```\n",
    "\n",
    "** Nice job! **"
   ]
  },
  {
   "cell_type": "code",
   "execution_count": null,
   "metadata": {
    "collapsed": true
   },
   "outputs": [],
   "source": [
    "# Task 4"
   ]
  }
 ],
 "metadata": {
  "kernelspec": {
   "display_name": "Python 2",
   "language": "python",
   "name": "python2"
  },
  "language_info": {
   "codemirror_mode": {
    "name": "ipython",
    "version": 2
   },
   "file_extension": ".py",
   "mimetype": "text/x-python",
   "name": "python",
   "nbconvert_exporter": "python",
   "pygments_lexer": "ipython2",
   "version": "2.7.10"
  }
 },
 "nbformat": 4,
 "nbformat_minor": 0
}
