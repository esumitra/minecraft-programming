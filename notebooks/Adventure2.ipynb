{
 "cells": [
  {
   "cell_type": "markdown",
   "metadata": {},
   "source": [
    "# Welcome Home\n",
    "\n",
    "Usually when Steve comes home, there is no one at home. Steve can get lonely at times especially after long hard battle with creepers and zombies.\n",
    "\n",
    "\n",
    "In this programming adventure we'll make Minecraft display a warm and friendly welcome message when Steve comes home. We'll test your program by exploring the world and then come back home to a friendly welcome. Along the way we will learn about coordinate systems which help us locate objects in a game. We will also learn about variables and conditions. "
   ]
  },
  {
   "cell_type": "markdown",
   "metadata": {},
   "source": [
    "## Coordinate Systems\n",
    "\n",
    "From your math classes, you will remember coordinate systems to locate points in a plane. The points (2,3), (-3,1) and (-1,-2.5) are shown in the grid below.\n",
    "\n",
    "![XY Grid](https://upload.wikimedia.org/wikipedia/commons/0/0e/Cartesian-coordinate-system.svg \"XY Grid\")\n",
    "\n",
    "The Minecraft coordinate grid is shown below:\n",
    "\n",
    "![Minecraft Coordinate System](http://coderdojotc.readthedocs.io/projects/python-minecraft/en/latest/_images/coordinates.png \"Minecraft Coordinate System\")\n",
    "\n",
    "In Minecraft, when you move East, your X-coordinate increases and when you move South, your Z-coordinate increases. Let's confirm this through a few Minecraft exercises.\n",
    "\n"
   ]
  },
  {
   "cell_type": "markdown",
   "metadata": {},
   "source": [
    "## Task 1: Moving in Minecraft coordinate systems\n",
    "\n",
    "In Minecraft look at Steve's coordinates. Now move Steve to any other position. See how his coordinates change as you move? \n",
    "\n",
    "- [ ] Change your direction so that only the Xcoordinate moves when you move forward or back. \n",
    "\n",
    "- [ ] Change your direction so only the Z-coordinate moves when you move forward or back."
   ]
  },
  {
   "cell_type": "markdown",
   "metadata": {},
   "source": [
    "## Task 2: Write a program to show Steve's position on the screen\n",
    "Remember functions from the first Adventure? A function lets us do things in a computer program or in the minecraft game. The function **getTilePos()** get the players position as (x,y,z) coordinates in Minecraft. Let's using this function to print Steve's position as he moves around. We need to store Steve's position when we call the function **getTilePos()** so that we can print the position later. We can use a program **variable** to store the position. A variable has a name and can be used to store values. We'll call our variable **pos** for position and it will contain the Steve's position. When we want to print the position, we print the values of the position x,y and z coordinates using another function **print()** which prints any strings you give it.\n",
    "\n",
    "Start up minecraft and type the following in a new cell.\n",
    "\n",
    "```python\n",
    "from mcpi.minecraft import *\n",
    "mc = Minecraft.create()\n",
    "pos = mc.player.getTilePos()\n",
    "print(pos.x)\n",
    "print(pos.y)\n",
    "print(pos.z)\n",
    "```\n",
    "\n",
    "When you run your program by pressing Ctrl+Enter in the program cell, you should now see Steve's position printed.\n",
    "\n",
    "** Great Job!**\n"
   ]
  },
  {
   "cell_type": "code",
   "execution_count": 6,
   "metadata": {
    "collapsed": false
   },
   "outputs": [
    {
     "data": {
      "text/plain": [
       "'x = 10,y = 20,z = 30'"
      ]
     },
     "execution_count": 6,
     "metadata": {},
     "output_type": "execute_result"
    }
   ],
   "source": [
    "# Type Task 2 program here\n"
   ]
  },
  {
   "cell_type": "markdown",
   "metadata": {},
   "source": [
    "## Task 3: Prettying up messages\n",
    "The messages we printed are somewhat basic and can be confusing since we don't know which number is x,y or z. Why not print a message that is more useful. Often messages are built by attaching strings and data. Try typing \n",
    "\n",
    "```python\n",
    "\"my name is \" + \"Steve\"\n",
    "``` \n",
    "\n",
    "in a code cell. What message gets printed? Now try\n",
    "\n",
    "```python\n",
    "\"my age is \" + 10\n",
    "``` \n",
    "\n",
    "Hmmm... That did not work :( Strings can only be attached or _concatenated_ with other strings. In order to attach a number to string, we need to convert the number into a printable string. We will use another function **str()** which returns a printable string of its arguments. Since x,y,z coordinates are numbers, we need to convert them to strings in order to print them with other strings. Too how the str() function works type the following in a code cell and run.\n",
    "\n",
    "```python\n",
    "\"my age is \" + str(10)\n",
    "``` \n",
    "\n",
    "What gets printed by the line below?\n",
    "\n",
    "```python\n",
    "\"x = \" + str(10) + \",y = \" + str(20) + \",z = \" + str(30)\n",
    "``` \n",
    "\n",
    "You now have all the information you need to print a pretty message. \n",
    "\n",
    "- [ ] Modify your program to print a pretty message shown below to correctly print Steve's position\n",
    "      Steve's position is: x = 10,y = 20,z = 30\n",
    "- [ ] Modify your program to use a variable names _message_ to store the pretty message and then print the message\n",
    "      Hint:\n",
    "\n",
    "```python\n",
    "message = ...\n",
    "print(message)\n",
    "```\n"
   ]
  }
 ],
 "metadata": {
  "kernelspec": {
   "display_name": "Python 2",
   "language": "python",
   "name": "python2"
  },
  "language_info": {
   "codemirror_mode": {
    "name": "ipython",
    "version": 2
   },
   "file_extension": ".py",
   "mimetype": "text/x-python",
   "name": "python",
   "nbconvert_exporter": "python",
   "pygments_lexer": "ipython2",
   "version": "2.7.10"
  }
 },
 "nbformat": 4,
 "nbformat_minor": 0
}
