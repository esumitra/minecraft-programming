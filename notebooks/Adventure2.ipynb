{
 "cells": [
  {
   "cell_type": "markdown",
   "metadata": {},
   "source": [
    "# Welcome Home\n",
    "\n",
    "Usually when Steve comes home, there is no one at home. Steve can get lonely at times especially after long hard battle with creepers and zombies.\n",
    "\n",
    "\n",
    "In this programming adventure we'll make Minecraft display a warm and friendly welcome message when Steve comes home. We'll test your program by exploring the world and then come back home to a friendly welcome. Along the way we will learn about coordinate systems which help us locate objects in a game. We will also learn about variables and conditions. "
   ]
  },
  {
   "cell_type": "markdown",
   "metadata": {},
   "source": [
    "## Coordinate Systems\n",
    "\n",
    "From your math classes, you will remember coordinate systems to locate points in a plane. The points (2,3), (-3,1) and (-1,-2.5) are shown in the grid below.\n",
    "\n",
    "![XY Grid](https://upload.wikimedia.org/wikipedia/commons/0/0e/Cartesian-coordinate-system.svg \"XY Grid\")\n",
    "\n",
    "The Minecraft coordinate grid is shown below:\n",
    "\n",
    "![Minecraft Coordinate System](http://coderdojotc.readthedocs.io/projects/python-minecraft/en/latest/_images/coordinates.png \"Minecraft Coordinate System\")\n",
    "\n",
    "In Minecraft, when you move East, your X-coordinate increases and when you move South, your Z-coordinate increases. Let's confirm this through a few Minecraft exercises.\n",
    "\n"
   ]
  },
  {
   "cell_type": "markdown",
   "metadata": {},
   "source": [
    "## Task 1: Moving in Minecraft coordinate systems\n",
    "\n",
    "In Minecraft look at Steve's coordinates. Now move Steve to any other position. See how his coordinates change as you move? \n",
    "\n",
    "- [ ] Change your direction so that only the Xcoordinate moves when you move forward or back. \n",
    "\n",
    "- [ ] Change your direction so only the Z-coordinate moves when you move forward or back."
   ]
  },
  {
   "cell_type": "markdown",
   "metadata": {},
   "source": [
    "## Task 2: Write a program to show Steve's position on the screen\n",
    "Remember functions from the first Adventure? A function lets us do things in a computer program or in the minecraft game. The function **getTilePos()** get the players position as (x,y,z) coordinates in Minecraft. Let's using this function to print Steve's position as he moves around. We need to store Steve's position when we call the function **getTilePos()** so that we can print the position later. We can use a program **variable** to store the position. A variable has a name and can be used to store values. We'll call our variable **pos** for position and it will contain the Steve's position. When we want to print the position, we print the values of the position x,y and z coordinates using another function **print()** which prints any strings you give it.\n",
    "\n",
    "Start up minecraft and type the following in a new cell.\n",
    "\n",
    "```python\n",
    "from mcpi.minecraft import *\n",
    "mc = Minecraft.create()\n",
    "pos = mc.player.getTilePos()\n",
    "print(pos.x)\n",
    "print(pos.y)\n",
    "print(pos.z)\n",
    "```\n",
    "\n",
    "When you run your program by pressing Ctrl+Enter in the program cell, you should now see Steve's position printed.\n",
    "\n",
    "** Great Job!**\n"
   ]
  },
  {
   "cell_type": "code",
   "execution_count": null,
   "metadata": {
    "collapsed": true
   },
   "outputs": [],
   "source": [
    "from mcpi.minecraft import *\n",
    "import time\n",
    "mc = Minecraft.create()"
   ]
  },
  {
   "cell_type": "code",
   "execution_count": null,
   "metadata": {
    "collapsed": false
   },
   "outputs": [],
   "source": [
    "# Type Task 2 program here\n"
   ]
  },
  {
   "cell_type": "markdown",
   "metadata": {},
   "source": [
    "## Task 3: Prettying up messages\n",
    "The messages we printed are somewhat basic and can be confusing since we don't know which number is x,y or z. Why not print a message that is more useful. Often messages are built by attaching strings and data. Try typing \n",
    "\n",
    "```python\n",
    "\"my name is \" + \"Steve\"\n",
    "``` \n",
    "\n",
    "in a code cell. What message gets printed? Now try\n",
    "\n",
    "```python\n",
    "\"my age is \" + 10\n",
    "``` \n",
    "\n",
    "Hmmm... That did not work :( Strings can only be attached or _concatenated_ with other strings. In order to attach a number to string, we need to convert the number into a printable string. We will use another function **str()** which returns a printable string of its arguments. Since x,y,z coordinates are numbers, we need to convert them to strings in order to print them with other strings. Too how the str() function works type the following in a code cell and run.\n",
    "\n",
    "```python\n",
    "\"my age is \" + str(10)\n",
    "``` \n",
    "\n",
    "What gets printed by the line below?\n",
    "\n",
    "```python\n",
    "\"x = \" + str(10) + \",y = \" + str(20) + \",z = \" + str(30)\n",
    "``` \n",
    "\n",
    "You now have all the information you need to print a pretty message. \n",
    "\n",
    "- [ ] Modify your program to print a pretty message shown below to correctly print Steve's position\n",
    "      Steve's position is: x = 10,y = 20,z = 30\n",
    "- [ ] Modify your program to use a variable names _message_ to store the pretty message and then print the message\n",
    "      Hint:\n",
    "\n",
    "```python\n",
    "message = ...\n",
    "print(message)\n",
    "```\n"
   ]
  },
  {
   "cell_type": "code",
   "execution_count": null,
   "metadata": {
    "collapsed": true
   },
   "outputs": [],
   "source": [
    "## Type Task 3 program here\n"
   ]
  },
  {
   "cell_type": "markdown",
   "metadata": {},
   "source": [
    "## Task 4: Display Steve's coordinates in Minecraft\n",
    "For this task instead of printing Steve's coordinates, lets display them in Minecraft using the **postToChat()** function from Adventure1\n",
    "\n",
    "You should see a message like the one below once you run your program.\n"
   ]
  },
  {
   "cell_type": "code",
   "execution_count": null,
   "metadata": {
    "collapsed": false
   },
   "outputs": [],
   "source": [
    "while True:\n",
    "    time.sleep(1)\n",
    "    ## Type Task 4 program here\n",
    "    "
   ]
  },
  {
   "cell_type": "markdown",
   "metadata": {},
   "source": [
    "## Home\n",
    "In Minecraft move to a location that you want to call home and place a Gold block there. Move Steve on top of the Gold block and write down his coordinates. Lets save these coordinates in the variables **home_x** and **home_z**. We will use these variables to detect when Steve returns home.\n"
   ]
  },
  {
   "cell_type": "code",
   "execution_count": null,
   "metadata": {
    "collapsed": true
   },
   "outputs": [],
   "source": [
    "## Change these values for your home\n",
    "home_x = 0\n",
    "home_z = 0"
   ]
  },
  {
   "cell_type": "markdown",
   "metadata": {},
   "source": [
    "## Is Steve home?\n",
    "Now the magic of figuring out if Steve is home. As Steve moves in Minecraft, his x and z coordinates change. We can detect that Steve is home when his coordinates are equal to the cordinates of his home! To put it in math terms, Steve is home when\n",
    "\n",
    "$$\n",
    "(pos_{x},pos_{z}) = (home_{x},home_{z})\n",
    "$$\n",
    "\n",
    "In the program we can write the math expression as\n",
    "\n",
    "```python\n",
    "pos.x == home_x and pos.z == home_z\n",
    "```\n",
    "\n",
    "We can an **if** program block to check if Steve's coordinates equal his home coordinates. An **if** block is written as shown below\n",
    "\n",
    "```python\n",
    "if (condition):\n",
    "    do something 1\n",
    "    do something 2\n",
    "```\n",
    "\n",
    "Lets put this all together in the program below\n",
    "```python\n",
    "while True:\n",
    "    time.sleep(1)\n",
    "    pos = mc.player.getTilePos()\n",
    "    if (pos.x == home_x and pos.z == home_z):\n",
    "        mc.postToChat(\"Welcome home Steve.\")\n",
    "    # the rest of your program from task 4\n",
    "```\n",
    "\n",
    "What happens when you run around in Minecraft and return to the gold block that is your home? That warm message makes Steve happy. He can now be well rested for battling creepers the next day."
   ]
  },
  {
   "cell_type": "code",
   "execution_count": null,
   "metadata": {
    "collapsed": true
   },
   "outputs": [],
   "source": [
    "## Type Task 5 program here\n"
   ]
  },
  {
   "cell_type": "markdown",
   "metadata": {},
   "source": [
    "## Recap\n",
    "\n",
    "In this adventure you learned about **coordinates**, **variables** and **if conditions**. You used your knowledge to greet Steve with a warm message when he returns home. \n",
    "\n",
    "** Great Job! **\n",
    "\n"
   ]
  }
 ],
 "metadata": {
  "kernelspec": {
   "display_name": "Python 2",
   "language": "python",
   "name": "python2"
  },
  "language_info": {
   "codemirror_mode": {
    "name": "ipython",
    "version": 2
   },
   "file_extension": ".py",
   "mimetype": "text/x-python",
   "name": "python",
   "nbconvert_exporter": "python",
   "pygments_lexer": "ipython2",
   "version": "2.7.10"
  }
 },
 "nbformat": 4,
 "nbformat_minor": 0
}
