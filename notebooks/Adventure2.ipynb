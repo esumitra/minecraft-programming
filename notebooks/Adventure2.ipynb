{
 "cells": [
  {
   "cell_type": "markdown",
   "metadata": {},
   "source": [
    "# Welcome Home\n",
    "\n",
    "Usually when Steve comes home, there is no one at home. Steve can get lonely at times especially after long hard battle with creepers and zombies.\n",
    "\n",
    "\n",
    "In this programming adventure we'll make Minecraft display a warm and friendly welcome message when Steve comes home. We'll test your program by exploring the world and then come back home to a friendly welcome. Along the way we will learn about coordinate systems which help us locate objects in a game. We will also learn about variables and conditions. "
   ]
  },
  {
   "cell_type": "markdown",
   "metadata": {},
   "source": [
    "## Coordinate Systems\n",
    "\n",
    "From your math classes, you will remember coordinate systems to locate points in a plane. The points (2,3), (-3,1) and (-1,-2.5) are shown in the grid below.\n",
    "\n",
    "![XY Grid](https://upload.wikimedia.org/wikipedia/commons/0/0e/Cartesian-coordinate-system.svg \"XY Grid\")\n",
    "\n",
    "The Minecraft coordinate grid is shown below:\n",
    "\n",
    "![Minecraft Coordinate System](http://coderdojotc.readthedocs.io/projects/python-minecraft/en/latest/_images/coordinates.png \"Minecraft Coordinate System\")\n",
    "\n",
    "In Minecraft, when you move East, your X-coordinate increases and when you move South, your Z-coordinate increases. Let's confirm this through a few Minecraft exercises.\n",
    "\n"
   ]
  },
  {
   "cell_type": "markdown",
   "metadata": {},
   "source": [
    "## Task 1: Moving in Minecraft coordinate systems\n",
    "\n",
    "In Minecraft look at Steve's coordinates. Now move Steve to any other position. See how his coordinates change as you move? See if you change your direction so that only the Xcoordinate moves when you move forward or back. Can you change your direction so only the Z-coordinate moves when you move?"
   ]
  },
  {
   "cell_type": "markdown",
   "metadata": {},
   "source": [
    "## Task 2: Write a program to show Steve's position on the screen\n"
   ]
  }
 ],
 "metadata": {
  "kernelspec": {
   "display_name": "Python 2",
   "language": "python",
   "name": "python2"
  },
  "language_info": {
   "codemirror_mode": {
    "name": "ipython",
    "version": 2
   },
   "file_extension": ".py",
   "mimetype": "text/x-python",
   "name": "python",
   "nbconvert_exporter": "python",
   "pygments_lexer": "ipython2",
   "version": "2.7.10"
  }
 },
 "nbformat": 4,
 "nbformat_minor": 0
}
