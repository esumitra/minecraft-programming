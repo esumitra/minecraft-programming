{
 "cells": [
  {
   "cell_type": "markdown",
   "metadata": {},
   "source": [
    "# Lists and Loops\n",
    "\n",
    "![Dodecahedron](http://orig09.deviantart.net/60db/f/2008/209/1/3/companion_dodecahedron_final_by_hafunui.png)\n",
    "\n",
    "In the last class we learned about variables and values. In this class we will learn about containers called **Lists** and about a new idea called a **Loop** that helps us repeat instructions easily in a computer program.\n",
    "\n",
    "Our functions can now also draw a **DODECAHEDRON** which we will use to practice lists and loops.\n"
   ]
  },
  {
   "cell_type": "markdown",
   "metadata": {},
   "source": [
    "## Lists\n",
    "A variable is a box or container with a name that can hold a single value. You can change the value you put in the variable at any time. A **List** is a box or container that you can use to hold **multiple** values. The list below contains five values 78,45,12,89 and 56. Each value in the list is called a list item.\n",
    "\n",
    "![List](http://www.tutorialdost.com/Cpp-Programming-Tutorial/images/Array.png)\n",
    "\n",
    "\n",
    "The program to store this list is below\n",
    "\n",
    "```python\n",
    "myNumbers = [78,45,12,89,56]\n",
    "```\n",
    "\n",
    "Lists can be used to store strings. The list below stores the names of sports teams in Boston.\n",
    "\n",
    "```python\n",
    "myTeams = [\"Patriots\",\"Red Sox\",\"Celtics\",\"Bruins\",\"Revolution\"]\n",
    "```\n",
    "\n",
    "**Notes**\n",
    "* A list has to start with a **[** and end with a **]**\n",
    "* The items in a list must be separated with a **,**"
   ]
  },
  {
   "cell_type": "markdown",
   "metadata": {},
   "source": [
    "## Loops\n",
    "A loop is a set of instructions that can be repeated. A **for-in** loop lets us easily repeat a set of instructions for all the items in a list. \n",
    "\n",
    "```python\n",
    "for item in listName:\n",
    "    myFunction1(listItem)\n",
    "    myFunction2(listItem)\n",
    "```\n",
    "\n",
    "**Notes**\n",
    "* the line that starts the for-in loop should end with a **:**\n",
    "* each statement that needs to be repeated should have 4 spaces in front of it"
   ]
  },
  {
   "cell_type": "markdown",
   "metadata": {},
   "source": [
    "### Start Minecraft and run the program cell below before you begin your tasks."
   ]
  },
  {
   "cell_type": "code",
   "execution_count": null,
   "metadata": {
    "collapsed": false
   },
   "outputs": [],
   "source": [
    "import sys\n",
    "sys.path.append('/home/pi/minecraft-programming')\n",
    "import mcpi.block as block\n",
    "import time\n",
    "import drawings"
   ]
  },
  {
   "cell_type": "markdown",
   "metadata": {},
   "source": [
    "### Task 1\n",
    "Write a program to print out the best teams in New England\n",
    "* Define a new list variable named myTeams with the values \"Patriots\", \"Red Sox\" and \"Celtics\"\n",
    "* type and run the program below to print the best teams\n",
    "\n",
    "```python\n",
    "myTeams=?\n",
    "for item in myTeams:\n",
    "    print(item + \" is the best team in NE\")\n",
    "    time.sleep(2)\n",
    "```\n",
    "\n",
    "**Nice!**"
   ]
  },
  {
   "cell_type": "code",
   "execution_count": null,
   "metadata": {
    "collapsed": true
   },
   "outputs": [],
   "source": [
    "# Task 1 program\n"
   ]
  },
  {
   "cell_type": "markdown",
   "metadata": {},
   "source": [
    "### Task 2\n",
    "The Patriots won the superbowl in 2002, 2004, 2005 and 2015. \n",
    "\n",
    "* Set a new list variable named **wins** to the values 2002, 2004, 2005 and 2015\n",
    "* type and run the program below that uses the variable wins in a loop\n",
    "\n",
    "```python\n",
    "wins=?\n",
    "for item in wins:\n",
    "    print(\"The Patriots won Superbowl in \" + str(item))\n",
    "    time.sleep(1)\n",
    "```"
   ]
  },
  {
   "cell_type": "code",
   "execution_count": null,
   "metadata": {
    "collapsed": false
   },
   "outputs": [],
   "source": [
    "# Task 2 program\n"
   ]
  },
  {
   "cell_type": "markdown",
   "metadata": {},
   "source": [
    "###  Task 3\n",
    "\n",
    "For this task you will build three circles of radius 5, 8 and 13.\n",
    "\n",
    "* define a new list variable named **radius** with values 5, 8 and 13\n",
    "* type and run the program below to build circles with these three different radii\n",
    "\n",
    "```python\n",
    "radius=?\n",
    "for item in radius:\n",
    "    drawings.drawMyCircle(item, block.WOOD.id)\n",
    "    time.sleep(5)\n",
    "```\n",
    "\n",
    "**Very nice!**"
   ]
  },
  {
   "cell_type": "code",
   "execution_count": null,
   "metadata": {
    "collapsed": true
   },
   "outputs": [],
   "source": [
    "# Task 3 program"
   ]
  },
  {
   "cell_type": "markdown",
   "metadata": {},
   "source": [
    "### Task 4\n",
    "For this task you will write a program to build three shapes using lists and loops. You will build a TETRAHEDRON, an OCTAHEDRON and a CUBE.\n",
    "\n",
    "* define a new list variable named **shapes** with values \"TETRAHEDRON\", \"OCTAHEDRON\" and \"CUBE\"\n",
    "* type and run the program below to build the three shapes with ICE blocks\n",
    "\n",
    "```python\n",
    "shapes=?\n",
    "for item in shapes:\n",
    "    drawings.drawSolid(item, block.ICE.id)\n",
    "    time.sleep(5)\n",
    "```\n",
    "\n",
    "**Well Done!**"
   ]
  },
  {
   "cell_type": "code",
   "execution_count": null,
   "metadata": {
    "collapsed": true
   },
   "outputs": [],
   "source": [
    "# Task 4 program\n"
   ]
  },
  {
   "cell_type": "markdown",
   "metadata": {},
   "source": [
    "### Task 5\n",
    "* Modify the program in task 4 to add a **\"DODECAHEDRON\"** to the list of shapes being built \n"
   ]
  },
  {
   "cell_type": "code",
   "execution_count": null,
   "metadata": {
    "collapsed": true
   },
   "outputs": [],
   "source": [
    "# Task 5 program\n"
   ]
  }
 ],
 "metadata": {
  "kernelspec": {
   "display_name": "Python 2",
   "language": "python",
   "name": "python2"
  },
  "language_info": {
   "codemirror_mode": {
    "name": "ipython",
    "version": 2
   },
   "file_extension": ".py",
   "mimetype": "text/x-python",
   "name": "python",
   "nbconvert_exporter": "python",
   "pygments_lexer": "ipython2",
   "version": "2.7.10"
  }
 },
 "nbformat": 4,
 "nbformat_minor": 0
}
