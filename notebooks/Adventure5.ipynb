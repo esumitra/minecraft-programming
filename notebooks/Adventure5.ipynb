{
 "cells": [
  {
   "cell_type": "markdown",
   "metadata": {},
   "source": [
    "# Golden Spirals\n",
    "\n",
    "Steve loves nature. He likes looking at the pretty patterns in nature like the one below.\n",
    "\n",
    "![Image of Natural Spirals](http://static1.squarespace.com/static/526e93fde4b0825dbf634205/t/55376c19e4b04fa840f0d570/1429695527113/?format=800w)\n",
    "\n",
    "The spiral in the picture above have a special name - it is called a **Golden Spiral**. The Golden Spiral is found everywhere in nature - in flowers, in pinecones, in hurricanes, in galaxies, DNA molecules and many more.\n",
    "\n",
    "The Golden Spiral is related to a special number in math called the **Golden Ratio = 1.618.** In this adventure we will build natural looking spirals using the Golden Ratio that makes Steve happy as he explores the Minecraft world. \n"
   ]
  },
  {
   "cell_type": "markdown",
   "metadata": {},
   "source": [
    "## Fibonacci series\n",
    "\n",
    "Lets look at a few number series:\n",
    "The series of natural numbers is - 1,2,3,4,5,...\n",
    "\n",
    "The series of even numbers is - 2,4,6,8,...\n",
    "\n",
    "The series of odd numbers is - 1,3,5,7,...\n",
    "\n",
    "\n",
    "There is a special sequence of numbers called the **Fibonacci Series** that helps us calculate the golden ratio. \n",
    "\n",
    "The series of Fibonacci series = 1,1,2,3,5,8,13,...\n",
    "\n",
    "![Fibonacci Series](http://jwilson.coe.uga.edu/EMAT6680Su09/King/AssignBKK12/Assignment-12_files/image009.jpg)\n",
    "\n",
    "It turns out that the Fibonacci numbers approximate the Golden Ratio.\n",
    "\n"
   ]
  },
  {
   "cell_type": "markdown",
   "metadata": {},
   "source": [
    "## Task 1: Calculating Fibonacci series\n",
    "\n",
    "Your first task is to calculate the first 10 numbers in the Fibonacci series\n",
    "\n",
    "Fibonacci series = 1,1,2,?,?,?,?,?,?,?\n",
    "\n"
   ]
  },
  {
   "cell_type": "code",
   "execution_count": null,
   "metadata": {
    "collapsed": false
   },
   "outputs": [],
   "source": [
    "# generate a list of Fibonacci series starting with 1\n",
    "import itertools\n",
    "import math\n",
    "import numpy as np\n",
    "def fib_function():\n",
    "    a, b = 0, 1\n",
    "    while True:\n",
    "        yield a\n",
    "        a, b = b, a + b\n",
    "\n",
    "def fib_list(n):\n",
    "    fib = fib_function()\n",
    "    return list(itertools.islice(fib,n+2))[2:]"
   ]
  },
  {
   "cell_type": "markdown",
   "metadata": {},
   "source": [
    "## Task 2: Verify the Fibonacci series in Task 1\n",
    "Run the code block above and verify that your Fibonacci series is correct by using the function _fib_list_\n",
    "\n",
    "```python\n",
    "fib_list(10)\n",
    "```"
   ]
  },
  {
   "cell_type": "code",
   "execution_count": null,
   "metadata": {
    "collapsed": false
   },
   "outputs": [],
   "source": [
    "# Task 2 program\n"
   ]
  },
  {
   "cell_type": "markdown",
   "metadata": {},
   "source": [
    "## Task 3: Run cells\n",
    "\n",
    "Nice job on calculating the Fibonacci series. Your next task is simple. Just run all the cells below until you  reach Task 4."
   ]
  },
  {
   "cell_type": "code",
   "execution_count": 3,
   "metadata": {
    "collapsed": false
   },
   "outputs": [],
   "source": [
    "# return a range if the numbers are different\n",
    "def ordered_range(a,b):\n",
    "    if (a == b):\n",
    "        return [a]\n",
    "    elif (a < b):\n",
    "        return range(a,b+1)\n",
    "    else:\n",
    "        return range(a,b-1,-1)\n",
    "\n",
    "# replace None with previous value of coordinate\n",
    "def replace_null(acc,p):\n",
    "    null_replacer = lambda (a,b): b if (a is None) else a\n",
    "    if not acc:\n",
    "        return [p]\n",
    "    else:\n",
    "        previous_point = acc[-1]\n",
    "        next_point = map(null_replacer, zip(p,previous_point))\n",
    "        return acc + [next_point]\n",
    "\n",
    "# a point p has (x,y,z) coordinates\n",
    "def line_coordinates(p1,p2):\n",
    "    x1,y1,z1 = p1[0],p1[1],p1[2]\n",
    "    x2,y2,z2 = p2[0],p2[1],p2[2]\n",
    "    points = reduce(replace_null,itertools.izip_longest(ordered_range(x1,x2),ordered_range(y1,y2),ordered_range(z1,z2)),[])\n",
    "    return points"
   ]
  },
  {
   "cell_type": "code",
   "execution_count": null,
   "metadata": {
    "collapsed": false
   },
   "outputs": [],
   "source": [
    "# generate the sequence [(1,0),(0,1),(-1,0),(0,-1),(1,0),...]\n",
    "def next_mult((m,n)):\n",
    "    return (-1*n,m)\n",
    "\n",
    "# return a new sequence = previous sequence + new segment\n",
    "# and new start position for next segment new_start\n",
    "def fib_segment((prev_sequence,(xm,zm)),segment_length):\n",
    "    start = prev_sequence[-1]\n",
    "    x1,y1,z1 = start[0],start[1],start[2]\n",
    "    x2,y2,z2 = x1 + (xm * segment_length), y1, z1 + (zm * segment_length)\n",
    "    new_segment = line_coordinates((x1,y1,z1),(x2,y2,z2))[1:]\n",
    "    new_sequence = prev_sequence + new_segment\n",
    "    return (new_sequence,next_mult((xm,zm)))\n",
    "    \n",
    "# fibonacci coordinates\n",
    "# alternating x,z using next_mult\n",
    "def fib_coords(start, n):\n",
    "    fib_series = fib_list(n)\n",
    "    fib_series.reverse()\n",
    "    fib_points = reduce(fib_segment,fib_series,([start],(1,0)))\n",
    "    return fib_points[0]\n",
    "\n",
    "#logarithmic spiral functions\n",
    "def log_spiral_xy(theta):\n",
    "    a = 1\n",
    "    b = 0.3\n",
    "    x = a*math.exp(b*theta)*math.cos(theta)\n",
    "    z = a*math.exp(b*theta)*math.sin(theta)\n",
    "    return (x,z)\n",
    "\n",
    "def theta_to_xyz((x,y,z),t):\n",
    "    x1,z1 = log_spiral_xy(t)\n",
    "    return (x1,y,z1)\n",
    "\n",
    "# log spiral coordinates\n",
    "def log_sequence((x,y,z),n):\n",
    "    rads = np.arange(0,2*math.pi*n,0.1)\n",
    "    logseq = map(lambda t: tuple(map(lambda x, y: int(round(x + y)), (x,y,z), theta_to_xyz((x,y,z),t))) ,rads)\n",
    "    loglines = reduce(lambda acc,s: acc + line_coordinates(s[0],s[1]), zip(logseq,logseq[1:]),[])\n",
    "    return logseq"
   ]
  },
  {
   "cell_type": "code",
   "execution_count": null,
   "metadata": {
    "collapsed": false
   },
   "outputs": [],
   "source": [
    "# Minecraft initialization\n",
    "import mcpi.minecraft as minecraft\n",
    "import mcpi.block as block\n",
    "import time\n",
    "mc = minecraft.Minecraft.create()"
   ]
  },
  {
   "cell_type": "code",
   "execution_count": null,
   "metadata": {
    "collapsed": false
   },
   "outputs": [],
   "source": [
    "# build in Minecraft\n",
    "def build_fib(n,blockid):\n",
    "    pos = mc.player.getTilePos()\n",
    "    mc.postToChat(\"building in 5 seconds ...\")\n",
    "    time.sleep(5)\n",
    "    x,y,z = pos.x,pos.y,pos.z\n",
    "    fclist = fib_coords((x,y,z),n)\n",
    "    for p in fclist:\n",
    "        mc.setBlock(p[0], p[1], p[2], blockid)\n",
    "\n",
    "def build_log_spiral(n,blockid):\n",
    "    pos = mc.player.getTilePos()\n",
    "    mc.postToChat(\"building in 5 seconds ...\")\n",
    "    time.sleep(5)\n",
    "    x,y,z = pos.x,pos.y,pos.z\n",
    "    fclist = log_sequence((x,y,z),n)\n",
    "    for p in fclist:\n",
    "        mc.setBlock(p[0], p[1], p[2], blockid)\n"
   ]
  },
  {
   "cell_type": "markdown",
   "metadata": {},
   "source": [
    "## Task 4: Fibonacci and Log Spirals\n",
    "\n",
    "Ready for some fun? Find a location in Minecraft where you want to generate a spiral and run the programs below. Use the program **build_fib** to build a Fibonacci spiral and **build_log_spiral** to build a golden spiral.\n",
    "\n",
    "```python\n",
    "build_fib(8, block.DIAMOND_BLOCK.id)\n",
    "build_log_spiral(2, block.STONE.id)\n",
    "```\n",
    "\n",
    "Trying using different numbers and building blocks in the building functions.\n"
   ]
  },
  {
   "cell_type": "code",
   "execution_count": null,
   "metadata": {
    "collapsed": false
   },
   "outputs": [],
   "source": [
    "# Task 4\n"
   ]
  }
 ],
 "metadata": {
  "kernelspec": {
   "display_name": "Python 2",
   "language": "python",
   "name": "python2"
  },
  "language_info": {
   "codemirror_mode": {
    "name": "ipython",
    "version": 2
   },
   "file_extension": ".py",
   "mimetype": "text/x-python",
   "name": "python",
   "nbconvert_exporter": "python",
   "pygments_lexer": "ipython2",
   "version": "2.7.10"
  }
 },
 "nbformat": 4,
 "nbformat_minor": 0
}
