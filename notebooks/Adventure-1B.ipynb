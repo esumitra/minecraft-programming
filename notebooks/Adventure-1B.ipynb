{
 "cells": [
  {
   "cell_type": "markdown",
   "metadata": {},
   "source": [
    "# Circles and Spheres\n",
    "\n",
    "![Minecraft Circles and Spheres](http://www.minecraftdl.com/wp-content/uploads/2013/10/Dual-Sphere-Survival-Map.png)\n",
    "\n",
    "In our first class we learned about functions. A function is a task to do something. Some of the functions we used are **mc.postToChat** to post a message to Minecraft and **time.sleep** to pause our program execution for 1 second. In today's adventure, we learn more about functions. We will use new functions to build circles and spheres in Minecraft.\n",
    "\n"
   ]
  },
  {
   "cell_type": "markdown",
   "metadata": {},
   "source": [
    "## Functions and arguments\n",
    "In our previous class we were introduced to functions. Sometimes you need more than just a task name to complete a task.  \n",
    "\n",
    "E.g., \"Practice you writing!\", is not enough, you want to know for how long. \"Practice your writing for 15 minutes!\" is more helpful.\n",
    "\n",
    "If we had a function for the \"practice writing\" task, we would write is as,\n",
    "\n",
    "```python\n",
    "practiceWriting(15)\n",
    "```\n",
    "\n",
    "the additional pieces information we pass to a function are called its arguments. A function can have zero or more arguments just like a real tasks need zero or more pieces of information to complete them. Both the functions that you used so far needed arguments. For the function examples below,\n",
    "\n",
    "```python\n",
    "mc.postToChat(\"Hi Kids\")\n",
    "time.sleep(1)\n",
    "```\n",
    "\n",
    "The **mc.postToChat** function needs the argument _\"Hi Kids\"_ which is the message to post to the Minecraft chat window. The **time.sleep** function needs the argument _1_ which is the number of seconds to pause the program from running."
   ]
  },
  {
   "cell_type": "markdown",
   "metadata": {},
   "source": [
    "## Building functions\n",
    "\n",
    "The first building function **drawings.drawMyCircle** uses two arguments - the radius of the circle to build and the block id to use for building the circle. \n",
    "\n",
    "```python\n",
    "drawings.drawMyCircle(radius,blockId)\n",
    "# drawings.drawMyCircle(5,block.STONE.id)\n",
    "```\n",
    "\n",
    "The second building function **drawings.drawMySphere** uses two arguments - the radius of the sphere to build and the block id to use for building the sphere. \n",
    "\n",
    "```python\n",
    "drawings.drawMySphere(radius,blockId)\n",
    "# drawings.drawMySphere(5,block.STONE.id)\n",
    "```\n",
    "\n",
    "In the following tasks, you will use these functions with different arguments to build circles and spheres in Minecraft. \n",
    "\n",
    "**Note:** Before you start your tasks, start Minecraft and run the program block below to make the building functions available to your program."
   ]
  },
  {
   "cell_type": "code",
   "execution_count": null,
   "metadata": {
    "collapsed": true
   },
   "outputs": [],
   "source": [
    "import sys\n",
    "sys.path.append('/home/pi/minecraft-programming')\n",
    "import drawings\n",
    "\n",
    "# drawings.drawMyCircle()"
   ]
  },
  {
   "cell_type": "markdown",
   "metadata": {},
   "source": [
    "## Task 1\n",
    "Use the building functions to build three circles with radii 5, 9 and 13 in the same position."
   ]
  },
  {
   "cell_type": "code",
   "execution_count": null,
   "metadata": {
    "collapsed": true
   },
   "outputs": [],
   "source": [
    "# Task 1 program"
   ]
  },
  {
   "cell_type": "markdown",
   "metadata": {},
   "source": [
    "## Task 2\n",
    "Use the building functions to build three spheres of radius 5, 9 and 13 in three different locations"
   ]
  },
  {
   "cell_type": "code",
   "execution_count": null,
   "metadata": {
    "collapsed": true
   },
   "outputs": [],
   "source": [
    "# Task 2 program"
   ]
  },
  {
   "cell_type": "markdown",
   "metadata": {},
   "source": [
    "## Task 3\n",
    "\n",
    "Write a program to build a sphere of radius 5 at the center, a circle of radius 8 and a circle of radius 13 at Steve's current position"
   ]
  },
  {
   "cell_type": "code",
   "execution_count": null,
   "metadata": {
    "collapsed": true
   },
   "outputs": [],
   "source": [
    "# Task 3 program"
   ]
  }
 ],
 "metadata": {
  "kernelspec": {
   "display_name": "Python 2",
   "language": "python",
   "name": "python2"
  },
  "language_info": {
   "codemirror_mode": {
    "name": "ipython",
    "version": 2
   },
   "file_extension": ".py",
   "mimetype": "text/x-python",
   "name": "python",
   "nbconvert_exporter": "python",
   "pygments_lexer": "ipython2",
   "version": "2.7.10"
  }
 },
 "nbformat": 4,
 "nbformat_minor": 0
}
