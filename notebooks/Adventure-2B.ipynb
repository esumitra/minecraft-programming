{
 "cells": [
  {
   "cell_type": "markdown",
   "metadata": {},
   "source": [
    "# Variables and 3D Shapes\n",
    "\n",
    "![Minecraft Solids](http://www.minecraft-schematics.com/upload/pictures/3149/large-picture-3149-1.png)\n",
    "\n",
    "In the last class we used functions and arguments to build circles, spheres and hollow spheres of different radii. Lets go ahead and build some 3D solid shapes as well. Before we can do so we need to learn about **Variables** and about solids shapes called **Polyhedrons**\n",
    "\n"
   ]
  },
  {
   "cell_type": "markdown",
   "metadata": {},
   "source": [
    "## Variables\n",
    "A variable is a box or container to hold a value. You can put a different value in a box everytime. \n",
    "\n",
    "* Number values like _1_, 0, _-10_ are called **integers** \n",
    "* Decimal values like 3.2, 1003.4, -4.5 are called **floats**\n",
    "* Word values like _\"Steve\"_, _\"Hi Brooks School\"_ are called **strings**\n",
    "\n",
    "Variables have names. Programs can use variables names instead of raw integers and strings which is very handy. E.g., in the program below, the variable with the name **positionX** has the integer value _10_ and the variable with name **message** has the value _\"Hi Brooks School\"_\n",
    "\n",
    "\n",
    "```python\n",
    "positionX = 10\n",
    "message = \"Hi Brooks School\"\n",
    "```\n",
    "\n",
    "In the next few tasks, you will practice using variables. \n",
    "\n",
    "**Start Minecraft and run the program cell below before you begin your tasks.**"
   ]
  },
  {
   "cell_type": "code",
   "execution_count": null,
   "metadata": {
    "collapsed": false
   },
   "outputs": [],
   "source": [
    "import sys\n",
    "sys.path.append('/home/pi/minecraft-programming')\n",
    "import mcpi.block as block\n",
    "import time\n",
    "import drawings"
   ]
  },
  {
   "cell_type": "markdown",
   "metadata": {},
   "source": [
    "### Task 1\n",
    "* Set the value of the variable named **userName** to _\"Steve\"_ and run the function in the task 1 program cell\n",
    "* Now set the value of the variable named **userName** to _\"Brooks\"_ and run the function in the task 1 program cell again"
   ]
  },
  {
   "cell_type": "code",
   "execution_count": null,
   "metadata": {
    "collapsed": true
   },
   "outputs": [],
   "source": [
    "# Task 1 program\n",
    "userName=\"blah\"\n",
    "mc.postToChat(userName)"
   ]
  },
  {
   "cell_type": "markdown",
   "metadata": {},
   "source": [
    "### Task 2\n",
    "* Run the function below in the task 2 program cell after defining the two variables below\n",
    "    * Define a new variable named **radius** and set its value to _5_ \n",
    "    * Define a new variable named **blockToUse** and set its value to _block.WOOD.id_ \n",
    "\n",
    "\n",
    "```python\n",
    "drawings.drawMyCircle(radius, blockToUse)\n",
    "```\n",
    "\n",
    "* Now set the value of the variable named **radius** to _8_ and the value of the variable named **blockToUse** to _block.GLASS.id_ and run the same function in the task 2 program cell again\n",
    "\n",
    "**Well done!**"
   ]
  },
  {
   "cell_type": "code",
   "execution_count": null,
   "metadata": {
    "collapsed": true
   },
   "outputs": [],
   "source": [
    "# Task 2 program\n",
    "\n",
    "drawings.drawMyCircle(radius, blockToUse)"
   ]
  },
  {
   "cell_type": "markdown",
   "metadata": {},
   "source": [
    "## 3D Shapes and Polyhedrons\n",
    "\n",
    "\n",
    "![Minecraft Solids](http://i0.wp.com/www.joedubs.com/wp-content/uploads/2015/04/Platonic-Solid-Chart-Top.jpg)\n",
    "\n",
    "\n",
    "The picture above shows the solid shapes studied by the mathematicians **Plato** and **Euclid**. \n",
    "\n",
    "\n",
    "We will use the function **drawings.drawSolid** to build these solids. This function takes the arguments\n",
    "\n",
    "* shape - name of the shape to build, which is one of \"TETRAHEDRON\", \"OCTAHEDRON\" or \"CUBE\"\n",
    "* length - length of the side of the shape to build e.g., 5\n",
    "* blockId - id of the block to build with e.g., block.STONE.id\n",
    "\n",
    "```python\n",
    "drawings.drawSolid(shape,length,blockId)\n",
    "# e.g., drawings.drawSolid(\"TETRAHEDRON\",5,block.STONE.id)\n",
    "```\n",
    "\n"
   ]
  },
  {
   "cell_type": "markdown",
   "metadata": {},
   "source": [
    "### Task 3\n",
    "Use the building function **drawings.drawSolid** to build a cube with length 5 and using the block _block.GLASS.id_"
   ]
  },
  {
   "cell_type": "code",
   "execution_count": null,
   "metadata": {
    "collapsed": true
   },
   "outputs": [],
   "source": [
    "# Task 3 program\n"
   ]
  },
  {
   "cell_type": "markdown",
   "metadata": {},
   "source": [
    "### Task 4\n",
    "* Run the function below in the task 2 program cell after defining the three variables below\n",
    "    * Define a new variable named **shape** and set its value to _\"CUBE\"_\n",
    "    * Define a new variable named **length** and set its value to _5_ \n",
    "    * Define a new variable named **blockToUse** and set its value to _block.GLASS.id_ \n",
    "\n",
    "\n",
    "```python\n",
    "drawings.drawSolid(shape, length, blockToUse)\n",
    "```\n",
    "\n",
    "* Now set the value of the variable named **shape** to _\"TERAHEDRON\"_ and the value of the variable named **blockToUse** to _block.STONE.id_ and run the same function in the task 2 program cell again\n",
    "\n",
    "**Well done!**"
   ]
  },
  {
   "cell_type": "code",
   "execution_count": null,
   "metadata": {
    "collapsed": true
   },
   "outputs": [],
   "source": [
    "# Task 4 program\n",
    "\n",
    "drawings.drawSolid(shape, length, blockToUse)"
   ]
  }
 ],
 "metadata": {
  "kernelspec": {
   "display_name": "Python 2",
   "language": "python",
   "name": "python2"
  },
  "language_info": {
   "codemirror_mode": {
    "name": "ipython",
    "version": 2
   },
   "file_extension": ".py",
   "mimetype": "text/x-python",
   "name": "python",
   "nbconvert_exporter": "python",
   "pygments_lexer": "ipython2",
   "version": "2.7.10"
  }
 },
 "nbformat": 4,
 "nbformat_minor": 0
}
