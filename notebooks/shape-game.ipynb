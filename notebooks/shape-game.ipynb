{
 "cells": [
  {
   "cell_type": "markdown",
   "metadata": {},
   "source": [
    "# Minecraft Shape Game\n",
    "\n",
    "![Mini Game](./mc-mini-game.png)\n",
    "\n",
    "\n",
    "In this class, we will play a Minecraft Minigame written to explore the shapes you have building in Minecraft. The rules of the games are:\n",
    "\n",
    "* To get a hit point, you need to hit a vertex with a sword\n",
    "* You can only hit a vertex if it is connected to the previous vertex along an edge\n",
    "* To complete the level you need to hit all the vertices in the polyhedron shape\n",
    "\n",
    "\n",
    "When you complete a level, the path you took with hitting vertices is replaced by explodable TNT blocks. You can then explode the shape by hitting the TNT block!\n",
    "\n",
    "The levels names in increasing order of difficulty are:\n",
    "\n",
    "* \"TETRAHEDRON\"\n",
    "* \"OCTAHEDRON\"\n",
    "* \"CUBE\"\n",
    "* \"DODECAHEDRON\"\n",
    "* \"ICOSAHEDRON\"\n",
    "\n",
    "** Good luck and have fun! **"
   ]
  },
  {
   "cell_type": "markdown",
   "metadata": {},
   "source": [
    "### Start Minecraft and run the program cell below before you begin your tasks."
   ]
  },
  {
   "cell_type": "code",
   "execution_count": null,
   "metadata": {
    "collapsed": false
   },
   "outputs": [],
   "source": [
    "import sys\n",
    "sys.path.append('/home/pi/minecraft-programming')\n",
    "import mini_game as pepgame"
   ]
  },
  {
   "cell_type": "markdown",
   "metadata": {},
   "source": [
    "### Level 0\n",
    "Move to a place in your Minecraft world where you want to play the game and run the program below. Once you run the program, switch to Minecraft and play the game."
   ]
  },
  {
   "cell_type": "code",
   "execution_count": null,
   "metadata": {
    "collapsed": false
   },
   "outputs": [],
   "source": [
    "game = pepgame.ShapeGame(\"TETRAHEDRON\")\n",
    "game.startGame()"
   ]
  },
  {
   "cell_type": "markdown",
   "metadata": {
    "collapsed": false
   },
   "source": [
    "### Next Levels\n",
    "Change the name of the shape in the program above to a more difficult level like \"CUBE\" and run the program again. Try to complete at least two levels."
   ]
  }
 ],
 "metadata": {
  "kernelspec": {
   "display_name": "Python 2",
   "language": "python",
   "name": "python2"
  },
  "language_info": {
   "codemirror_mode": {
    "name": "ipython",
    "version": 2
   },
   "file_extension": ".py",
   "mimetype": "text/x-python",
   "name": "python",
   "nbconvert_exporter": "python",
   "pygments_lexer": "ipython2",
   "version": "2.7.10"
  }
 },
 "nbformat": 4,
 "nbformat_minor": 0
}
